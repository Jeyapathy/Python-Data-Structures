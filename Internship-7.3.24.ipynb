{
 "cells": [
  {
   "cell_type": "code",
   "execution_count": 1,
   "id": "37f50721",
   "metadata": {},
   "outputs": [
    {
     "name": "stdout",
     "output_type": "stream",
     "text": [
      "(1, 2, 3, 4, 5, 6, 7)\n"
     ]
    }
   ],
   "source": [
    "def flatten_tuple(tup):\n",
    "    flattened = []\n",
    "    for item in tup:\n",
    "        if isinstance(item, list):\n",
    "            flattened.extend(flatten_tuple(item))\n",
    "        else:\n",
    "            flattened.append(item)\n",
    "    return tuple(flattened)\n",
    "\n",
    "tuple_of_lists = ([1, 2, [3, 4]], [5, [6, 7]])\n",
    "flattened_tuple = flatten_tuple(tuple_of_lists)\n",
    "print(flattened_tuple)\n"
   ]
  },
  {
   "cell_type": "code",
   "execution_count": 2,
   "id": "3fb18242",
   "metadata": {},
   "outputs": [
    {
     "name": "stdout",
     "output_type": "stream",
     "text": [
      "Set converted to tuple: (1, 2, 3, 4, 5)\n",
      "Tuple converted to set: {1, 2, 3, 4, 5}\n"
     ]
    }
   ],
   "source": [
    "def set_to_tuple(s):\n",
    "    return tuple(s)\n",
    "\n",
    "def tuple_to_set(t):\n",
    "    return set(t)\n",
    "\n",
    "input_set = {1, 2, 3, 4, 5}\n",
    "input_tuple = (1, 2, 3, 4, 5)\n",
    "\n",
    "converted_tuple = set_to_tuple(input_set)\n",
    "print(\"Set converted to tuple:\", converted_tuple)# Sample list of tuples\n",
    "tuple_list = [('Alice', 30), ('Bob', 25), ('Charlie', 35)]\n",
    "\n",
    "def sort_tuple_list_by_nth_element(tuple_list, n):\n",
    "    return sorted(tuple_list, key=lambda x: x[n])\n",
    "\n",
    "sorted_tuple_list = sort_tuple_list_by_nth_element(tuple_list, 1)\n",
    "\n",
    "print(\"Sorted tuple list by the second element:\", sorted_tuple_list)\n",
    "converted_set = tuple_to_set(input_tuple)\n",
    "print(\"Tuple converted to set:\", converted_set)\n"
   ]
  },
  {
   "cell_type": "code",
   "execution_count": 3,
   "id": "cad4e1d2",
   "metadata": {},
   "outputs": [
    {
     "name": "stdout",
     "output_type": "stream",
     "text": [
      "[('John', 30), ('Obama', 25), ('Ram', 35)]\n"
     ]
    }
   ],
   "source": [
    "\n",
    "list_of_dicts = [\n",
    "    {'name': 'John', 'age': 30},\n",
    "    {'name': 'Obama', 'age': 25},\n",
    "    {'name': 'Ram', 'age': 35}\n",
    "]\n",
    "\n",
    "tuple_list = [(d['name'], d['age']) for d in list_of_dicts]\n",
    "print(tuple_list)\n"
   ]
  },
  {
   "cell_type": "code",
   "execution_count": 4,
   "id": "2e85638f",
   "metadata": {},
   "outputs": [
    {
     "name": "stdout",
     "output_type": "stream",
     "text": [
      "Sorted tuple list by the second element: [('Obama', 25), ('John', 30), ('Kumar', 35)]\n"
     ]
    }
   ],
   "source": [
    "\n",
    "tuple_list = [('John', 30), ('Obama', 25), ('Kumar', 35)]\n",
    "\n",
    "def sort_tuple_list_by_nth_element(tuple_list, n):\n",
    "    return sorted(tuple_list, key=lambda x: x[n])\n",
    "\n",
    "\n",
    "sorted_tuple_list = sort_tuple_list_by_nth_element(tuple_list, 1)\n",
    "\n",
    "print(\"Sorted tuple list by the second element:\", sorted_tuple_list)\n"
   ]
  },
  {
   "cell_type": "code",
   "execution_count": 5,
   "id": "33ad0cc9",
   "metadata": {},
   "outputs": [
    {
     "name": "stdout",
     "output_type": "stream",
     "text": [
      "Indices of tuples from tuple_list1 in tuple_list2: [2, 0, -1]\n"
     ]
    }
   ],
   "source": [
    "tuple_list1 = [(1, 2), (3, 4), (5, 6)]\n",
    "tuple_list2 = [(3, 4), (7, 8), (1, 2)]\n",
    "indices = [tuple_list2.index(t) if t in tuple_list2 else -1 for t in tuple_list1]\n",
    "print(\"Indices of tuples from tuple_list1 in tuple_list2:\", indices)"
   ]
  },
  {
   "cell_type": "code",
   "execution_count": 6,
   "id": "0933e967",
   "metadata": {},
   "outputs": [
    {
     "name": "stdout",
     "output_type": "stream",
     "text": [
      "[{'A': 1, 'B': 4, 'C': 7}, {'A': 2, 'B': 5, 'C': 8}, {'A': 3, 'B': 6, 'C': 9}]\n"
     ]
    }
   ],
   "source": [
    "\n",
    "dict_with_list_values = {\n",
    "    'A': [1, 2, 3],\n",
    "    'B': [4, 5, 6],\n",
    "    'C': [7, 8, 9]\n",
    "}\n",
    "\n",
    "\n",
    "list_of_dicts = [{k: v[i] for k, v in dict_with_list_values.items()} for i in range(len(list(dict_with_list_values.values())[0])\n",
    "print(list_of_dicts)\n"
   ]
  },
  {
   "cell_type": "code",
   "execution_count": null,
   "id": "d44a7c00",
   "metadata": {},
   "outputs": [],
   "source": []
  }
 ],
 "metadata": {
  "kernelspec": {
   "display_name": "Python 3 (ipykernel)",
   "language": "python",
   "name": "python3"
  },
  "language_info": {
   "codemirror_mode": {
    "name": "ipython",
    "version": 3
   },
   "file_extension": ".py",
   "mimetype": "text/x-python",
   "name": "python",
   "nbconvert_exporter": "python",
   "pygments_lexer": "ipython3",
   "version": "3.11.5"
  }
 },
 "nbformat": 4,
 "nbformat_minor": 5
}
